{
 "cells": [
  {
   "cell_type": "markdown",
   "metadata": {},
   "source": [
    "# Chapter 7 Exercises"
   ]
  },
  {
   "cell_type": "markdown",
   "metadata": {},
   "source": [
    "#### Exercise 1"
   ]
  },
  {
   "cell_type": "code",
   "execution_count": 22,
   "metadata": {},
   "outputs": [
    {
     "name": "stdout",
     "output_type": "stream",
     "text": [
      "FROM: STEPHEN.MARQUARD@UCT.AC.ZA\n",
      "FROM: LOUIS@MEDIA.BERKELEY.EDU\n",
      "FROM: ZQIAN@UMICH.EDU\n",
      "FROM: RJLOWE@IUPUI.EDU\n",
      "FROM: ZQIAN@UMICH.EDU\n",
      "FROM: RJLOWE@IUPUI.EDU\n",
      "FROM: CWEN@IUPUI.EDU\n",
      "FROM: CWEN@IUPUI.EDU\n",
      "FROM: GSILVER@UMICH.EDU\n",
      "FROM: GSILVER@UMICH.EDU\n",
      "FROM: ZQIAN@UMICH.EDU\n",
      "FROM: GSILVER@UMICH.EDU\n",
      "FROM: WAGNERMR@IUPUI.EDU\n",
      "FROM: ZQIAN@UMICH.EDU\n",
      "FROM: ANTRANIG@CARET.CAM.AC.UK\n",
      "FROM: GOPAL.RAMASAMMYCOOK@GMAIL.COM\n",
      "FROM: DAVID.HORWITZ@UCT.AC.ZA\n",
      "FROM: DAVID.HORWITZ@UCT.AC.ZA\n",
      "FROM: DAVID.HORWITZ@UCT.AC.ZA\n",
      "FROM: DAVID.HORWITZ@UCT.AC.ZA\n",
      "FROM: STEPHEN.MARQUARD@UCT.AC.ZA\n",
      "FROM: LOUIS@MEDIA.BERKELEY.EDU\n",
      "FROM: LOUIS@MEDIA.BERKELEY.EDU\n",
      "FROM: RAY@MEDIA.BERKELEY.EDU\n",
      "FROM: CWEN@IUPUI.EDU\n",
      "FROM: CWEN@IUPUI.EDU\n",
      "FROM: CWEN@IUPUI.EDU\n"
     ]
    }
   ],
   "source": [
    "fhand = open('mbox-short.txt')\n",
    "for line in fhand:\n",
    "    line = line.rstrip()\n",
    "    if line.startswith('From:'):\n",
    "        print(line.upper())"
   ]
  },
  {
   "cell_type": "markdown",
   "metadata": {},
   "source": [
    "### Exercise 2"
   ]
  },
  {
   "cell_type": "code",
   "execution_count": 19,
   "metadata": {},
   "outputs": [
    {
     "name": "stdin",
     "output_type": "stream",
     "text": [
      "Enter the filename:  mbox-short.txt\n"
     ]
    },
    {
     "name": "stdout",
     "output_type": "stream",
     "text": [
      "There were 27 confidence values in mbox-short.txt with an average confidence of 0.7507185185185187 .\n"
     ]
    }
   ],
   "source": [
    "fname = input('Enter the filename: ')\n",
    "try:\n",
    "    fhand = open(fname)\n",
    "    count = 0\n",
    "    total = 0\n",
    "    for line in fhand:\n",
    "        if line.startswith('X-DSPAM-Confidence:'):\n",
    "            count = count + 1\n",
    "            atpos = line.find(':')\n",
    "            conf = line[atpos+1:]\n",
    "            try:\n",
    "                total = total + float(conf)\n",
    "            except:\n",
    "                count = count - 1\n",
    "                continue   \n",
    "    print('There were',count, 'confidence values in', fname, 'with an average confidence of', total/count, '.')\n",
    "except:\n",
    "    print('File cannot be opened:', fname)"
   ]
  },
  {
   "cell_type": "markdown",
   "metadata": {},
   "source": [
    "### Exercise 3"
   ]
  },
  {
   "cell_type": "code",
   "execution_count": 29,
   "metadata": {},
   "outputs": [
    {
     "name": "stdin",
     "output_type": "stream",
     "text": [
      "Enter the filename:  na na boo boo\n"
     ]
    },
    {
     "name": "stdout",
     "output_type": "stream",
     "text": [
      "NA NA BOO BOO TO YOU - You've been punk'd\n"
     ]
    }
   ],
   "source": [
    "fname = input('Enter the filename: ')\n",
    "try:\n",
    "    if fname.casefold() == 'na na boo boo'.casefold():\n",
    "        print('NA NA BOO BOO TO YOU - You\\'ve been punk\\'d')\n",
    "    else:\n",
    "        fhand = open(fname)\n",
    "        count = 0\n",
    "        total = 0\n",
    "        for line in fhand:\n",
    "            if line.startswith('X-DSPAM-Confidence:'):\n",
    "                count = count + 1\n",
    "                atpos = line.find(':')\n",
    "                conf = line[atpos+1:]\n",
    "                try:\n",
    "                    total = total + float(conf)\n",
    "                except:\n",
    "                    count = count - 1\n",
    "                    continue   \n",
    "        print('There were',count, 'confidence values in', fname, 'with an average confidence of', total/count, '.')\n",
    "except:\n",
    "    print('File cannot be opened:', fname)"
   ]
  },
  {
   "cell_type": "code",
   "execution_count": 27,
   "metadata": {},
   "outputs": [
    {
     "name": "stdout",
     "output_type": "stream",
     "text": [
      "Help on method_descriptor:\n",
      "\n",
      "casefold(self, /)\n",
      "    Return a version of the string suitable for caseless comparisons.\n",
      "\n"
     ]
    }
   ],
   "source": [
    "help(str.casefold)"
   ]
  },
  {
   "cell_type": "code",
   "execution_count": null,
   "metadata": {},
   "outputs": [],
   "source": []
  }
 ],
 "metadata": {
  "kernelspec": {
   "display_name": "Python 3",
   "language": "python",
   "name": "python3"
  },
  "language_info": {
   "codemirror_mode": {
    "name": "ipython",
    "version": 3
   },
   "file_extension": ".py",
   "mimetype": "text/x-python",
   "name": "python",
   "nbconvert_exporter": "python",
   "pygments_lexer": "ipython3",
   "version": "3.7.4"
  }
 },
 "nbformat": 4,
 "nbformat_minor": 4
}
