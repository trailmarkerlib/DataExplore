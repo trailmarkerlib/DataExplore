{
 "cells": [
  {
   "cell_type": "markdown",
   "metadata": {},
   "source": [
    "# Chapter 5 Exercises"
   ]
  },
  {
   "cell_type": "markdown",
   "metadata": {},
   "source": [
    "#### Exercise 1"
   ]
  },
  {
   "cell_type": "code",
   "execution_count": 6,
   "metadata": {},
   "outputs": [
    {
     "name": "stdin",
     "output_type": "stream",
     "text": [
      "Enter a number. Enter \"done\" to exit. 5\n",
      "Enter a number. Enter \"done\" to exit. \n"
     ]
    },
    {
     "name": "stdout",
     "output_type": "stream",
     "text": [
      "Please enter only numeric values. Enter \"done\" to exit.\n"
     ]
    },
    {
     "name": "stdin",
     "output_type": "stream",
     "text": [
      "Enter a number. Enter \"done\" to exit. 2\n",
      "Enter a number. Enter \"done\" to exit. 5\n",
      "Enter a number. Enter \"done\" to exit. 7\n",
      "Enter a number. Enter \"done\" to exit. 9\n",
      "Enter a number. Enter \"done\" to exit. 4\n",
      "Enter a number. Enter \"done\" to exit. 2\n",
      "Enter a number. Enter \"done\" to exit. done\n"
     ]
    },
    {
     "name": "stdout",
     "output_type": "stream",
     "text": [
      "Total:  34.0 ; Count:  7 ; Average:  4.857142857142857\n"
     ]
    }
   ],
   "source": [
    "total = 0\n",
    "count = 0\n",
    "while True:\n",
    "    val = input('Enter a number. Enter \"done\" to exit.')\n",
    "    if val == 'done':\n",
    "        break\n",
    "    try:\n",
    "        num = float(val)\n",
    "        total = total + num\n",
    "        count = count + 1\n",
    "    except:\n",
    "        print('Please enter only numeric values. Enter \"done\" to exit.')\n",
    "print('Total: ', total, '; Count: ', count, '; Average: ', total/count)"
   ]
  },
  {
   "cell_type": "markdown",
   "metadata": {},
   "source": [
    "#### Exercise 2"
   ]
  },
  {
   "cell_type": "code",
   "execution_count": 8,
   "metadata": {},
   "outputs": [
    {
     "name": "stdin",
     "output_type": "stream",
     "text": [
      "Enter a number. Enter \"done\" to exit. 5\n",
      "Enter a number. Enter \"done\" to exit. 7\n",
      "Enter a number. Enter \"done\" to exit. 3\n",
      "Enter a number. Enter \"done\" to exit. 4\n",
      "Enter a number. Enter \"done\" to exit. 6\n",
      "Enter a number. Enter \"done\" to exit. 7\n",
      "Enter a number. Enter \"done\" to exit. 0\n",
      "Enter a number. Enter \"done\" to exit. 9\n",
      "Enter a number. Enter \"done\" to exit. -7\n",
      "Enter a number. Enter \"done\" to exit. 7\n",
      "Enter a number. Enter \"done\" to exit. 8\n",
      "Enter a number. Enter \"done\" to exit. 33456\n",
      "Enter a number. Enter \"done\" to exit. done\n"
     ]
    },
    {
     "name": "stdout",
     "output_type": "stream",
     "text": [
      "Total:  33505.0 ; Count:  12 ; Min:  -7.0 ; Max:  33456.0\n"
     ]
    }
   ],
   "source": [
    "minimum = 0\n",
    "maximum = 0\n",
    "count = 0\n",
    "total = 0\n",
    "while True:\n",
    "    val = input('Enter a number. Enter \"done\" to exit.')\n",
    "    if val == 'done':\n",
    "        break\n",
    "    try:\n",
    "        num = float(val)\n",
    "        if count == 0:\n",
    "            maximum = num\n",
    "            minimum = num\n",
    "        else:\n",
    "            if num > maximum:\n",
    "                maximum = num\n",
    "            if num < minimum:\n",
    "                minimum = num\n",
    "        total = total + num\n",
    "        count = count + 1\n",
    "    except:\n",
    "        print('Please enter only numeric values. Enter \"done\" to exit.')\n",
    "print('Total: ', total, '; Count: ', count, '; Min: ', minimum, '; Max: ', maximum)"
   ]
  },
  {
   "cell_type": "code",
   "execution_count": null,
   "metadata": {},
   "outputs": [],
   "source": []
  }
 ],
 "metadata": {
  "kernelspec": {
   "display_name": "Python 3",
   "language": "python",
   "name": "python3"
  },
  "language_info": {
   "codemirror_mode": {
    "name": "ipython",
    "version": 3
   },
   "file_extension": ".py",
   "mimetype": "text/x-python",
   "name": "python",
   "nbconvert_exporter": "python",
   "pygments_lexer": "ipython3",
   "version": "3.7.4"
  }
 },
 "nbformat": 4,
 "nbformat_minor": 4
}
