{
 "cells": [
  {
   "cell_type": "markdown",
   "metadata": {},
   "source": [
    "# Chapter 4 Exercises"
   ]
  },
  {
   "cell_type": "code",
   "execution_count": 5,
   "metadata": {},
   "outputs": [],
   "source": [
    "def computepay(h, r):\n",
    "    if h <= 40:\n",
    "        print('Your pay is $', h*r)\n",
    "    else:\n",
    "        x = h - 40\n",
    "        p = r*40 + r*1.5*x\n",
    "        return p"
   ]
  },
  {
   "cell_type": "code",
   "execution_count": 7,
   "metadata": {},
   "outputs": [
    {
     "name": "stdin",
     "output_type": "stream",
     "text": [
      "Enter hours worked\n",
      " 49\n",
      "Enter your pay rate\n",
      " 16\n"
     ]
    },
    {
     "name": "stdout",
     "output_type": "stream",
     "text": [
      "Your pay is $ 856.0\n"
     ]
    }
   ],
   "source": [
    "try:\n",
    "    hours = float(input('Enter hours worked\\n'))\n",
    "    rate = float(input('Enter your pay rate\\n'))\n",
    "    pay = computepay(hours, rate)\n",
    "    print('Your pay is $', pay)\n",
    "except:\n",
    "    print('Please enter numbers for both hours worked and pay rate.')"
   ]
  },
  {
   "cell_type": "code",
   "execution_count": 11,
   "metadata": {},
   "outputs": [],
   "source": [
    "def computegrade(s):\n",
    "    if s >= 0.9:\n",
    "        g = 'A'\n",
    "    elif s >= 0.8:\n",
    "         g = 'B'\n",
    "    elif s >= 0.7:\n",
    "         g = 'C'\n",
    "    elif s >= 0.6:\n",
    "        g = 'D'\n",
    "    elif s < 0.6:\n",
    "        g = 'F'\n",
    "    return g"
   ]
  },
  {
   "cell_type": "code",
   "execution_count": 20,
   "metadata": {},
   "outputs": [
    {
     "name": "stdin",
     "output_type": "stream",
     "text": [
      "Enter your percentage score (a value between 0.0 and 1.0:)\n",
      " 0.91\n"
     ]
    },
    {
     "name": "stdout",
     "output_type": "stream",
     "text": [
      "Your grade is a(n) A\n"
     ]
    }
   ],
   "source": [
    "try:\n",
    "    score = float(input('Enter your percentage score (a value between 0.0 and 1.0:)\\n'))\n",
    "    if score < 0.0 or score > 1.0:\n",
    "        print('Error, the score must be a numeric value between 0.0 and 1.0. Please restart the program and try again.')\n",
    "    else:\n",
    "        grade = computegrade(score)\n",
    "        print('Your grade is a(n)', grade)\n",
    "except:\n",
    "    print('Please enter a numeric value between 0.0 and 1.0 for the percentage.')"
   ]
  },
  {
   "cell_type": "code",
   "execution_count": null,
   "metadata": {},
   "outputs": [],
   "source": []
  }
 ],
 "metadata": {
  "kernelspec": {
   "display_name": "Python 3",
   "language": "python",
   "name": "python3"
  },
  "language_info": {
   "codemirror_mode": {
    "name": "ipython",
    "version": 3
   },
   "file_extension": ".py",
   "mimetype": "text/x-python",
   "name": "python",
   "nbconvert_exporter": "python",
   "pygments_lexer": "ipython3",
   "version": "3.8.5"
  }
 },
 "nbformat": 4,
 "nbformat_minor": 4
}
