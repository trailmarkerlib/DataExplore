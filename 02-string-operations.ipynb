{
 "cells": [
  {
   "cell_type": "markdown",
   "metadata": {},
   "source": [
    "# Chapter 2 Variables, expressions, and statements"
   ]
  },
  {
   "cell_type": "markdown",
   "metadata": {},
   "source": [
    "### 2.9 String operations"
   ]
  },
  {
   "cell_type": "code",
   "execution_count": 1,
   "metadata": {},
   "outputs": [
    {
     "name": "stdout",
     "output_type": "stream",
     "text": [
      "100500\n"
     ]
    }
   ],
   "source": [
    "str1 = '100'\n",
    "str2 = '500'\n",
    "print(str1 + str2)"
   ]
  },
  {
   "cell_type": "code",
   "execution_count": 3,
   "metadata": {},
   "outputs": [
    {
     "name": "stdout",
     "output_type": "stream",
     "text": [
      "triple triple triple \n"
     ]
    }
   ],
   "source": [
    "str3 = 'triple '\n",
    "num = 3\n",
    "print(str3*num)"
   ]
  },
  {
   "cell_type": "markdown",
   "metadata": {},
   "source": [
    "### Multiline strings"
   ]
  },
  {
   "cell_type": "code",
   "execution_count": 6,
   "metadata": {},
   "outputs": [
    {
     "name": "stdout",
     "output_type": "stream",
     "text": [
      "This is a very long string that will break based on the size of my window because it is enclosed within single quotes.\n"
     ]
    }
   ],
   "source": [
    "longString = \"This is a very long string that will break based on the size of my window because it is enclosed within single quotes.\"\n",
    "print(longString)"
   ]
  },
  {
   "cell_type": "code",
   "execution_count": 9,
   "metadata": {},
   "outputs": [
    {
     "name": "stdout",
     "output_type": "stream",
     "text": [
      "This is a very long string that I want to\n",
      "print on multiple lines at places that I\n",
      "choose instead of letting it print all on \n",
      "one line.\n"
     ]
    }
   ],
   "source": [
    "longString2 = \"\"\"This is a very long string that I want to\n",
    "print on multiple lines at places that I\n",
    "choose instead of letting it print all on \n",
    "one line.\"\"\"\n",
    "print(longString2)"
   ]
  },
  {
   "cell_type": "code",
   "execution_count": null,
   "metadata": {},
   "outputs": [],
   "source": []
  }
 ],
 "metadata": {
  "kernelspec": {
   "display_name": "Python 3",
   "language": "python",
   "name": "python3"
  },
  "language_info": {
   "codemirror_mode": {
    "name": "ipython",
    "version": 3
   },
   "file_extension": ".py",
   "mimetype": "text/x-python",
   "name": "python",
   "nbconvert_exporter": "python",
   "pygments_lexer": "ipython3",
   "version": "3.8.5"
  }
 },
 "nbformat": 4,
 "nbformat_minor": 4
}
