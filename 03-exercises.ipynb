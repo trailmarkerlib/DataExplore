{
 "cells": [
  {
   "cell_type": "markdown",
   "metadata": {},
   "source": [
    "# Chapter 3 Exercises"
   ]
  },
  {
   "cell_type": "code",
   "execution_count": 3,
   "metadata": {},
   "outputs": [
    {
     "name": "stdin",
     "output_type": "stream",
     "text": [
      "Enter hours worked\n",
      " 10\n",
      "Enter your pay rate\n",
      " ten\n"
     ]
    },
    {
     "name": "stdout",
     "output_type": "stream",
     "text": [
      "Enter numbers for both hours worked and pay rate.\n"
     ]
    }
   ],
   "source": [
    "try:\n",
    "    hours = float(input('Enter hours worked\\n'))\n",
    "    rate = float(input('Enter your pay rate\\n'))\n",
    "    print('Your pay is $', hours*rate)\n",
    "except:\n",
    "    print('Enter numbers for both hours worked and pay rate.')"
   ]
  },
  {
   "cell_type": "code",
   "execution_count": 5,
   "metadata": {},
   "outputs": [
    {
     "name": "stdin",
     "output_type": "stream",
     "text": [
      "Enter hours worked\n",
      " 46\n",
      "Enter your pay rate\n",
      " 10\n"
     ]
    },
    {
     "name": "stdout",
     "output_type": "stream",
     "text": [
      "Your pay is $ 490.0\n"
     ]
    }
   ],
   "source": [
    "try:\n",
    "    hours = float(input('Enter hours worked\\n'))\n",
    "    rate = float(input('Enter your pay rate\\n'))\n",
    "    if hours <= 40:\n",
    "        print('Your pay is $', hours*rate)\n",
    "    else:\n",
    "        overtime = hours - 40\n",
    "        pay = rate*40 + rate*1.5*overtime\n",
    "        print('Your pay is $', pay)\n",
    "except:\n",
    "    print('Please enter numbers for both hours worked and pay rate.')"
   ]
  },
  {
   "cell_type": "code",
   "execution_count": 9,
   "metadata": {},
   "outputs": [
    {
     "name": "stdin",
     "output_type": "stream",
     "text": [
      "Enter your percentage score (a value between 0.0 and 1.0:)\n",
      " 0.79\n"
     ]
    },
    {
     "name": "stdout",
     "output_type": "stream",
     "text": [
      "Your grade is a(n) C\n"
     ]
    }
   ],
   "source": [
    "try:\n",
    "    score = float(input('Enter your percentage score (a value between 0.0 and 1.0:)\\n'))\n",
    "    if score < 0.0 or score > 1.0:\n",
    "        print('Error, the score must be a numeric value between 0.0 and 1.0. Please restart the program and try again.')\n",
    "    else:\n",
    "        if score >= 0.9:\n",
    "            grade = 'A'\n",
    "        elif score >= 0.8:\n",
    "            grade = 'B'\n",
    "        elif score >= 0.7:\n",
    "            grade = 'C'\n",
    "        elif score >= 0.6:\n",
    "            grade = 'D'\n",
    "        elif score < 0.6:\n",
    "            grade = 'F'\n",
    "        print('Your grade is a(n)', grade)\n",
    "except:\n",
    "    print('Please enter a numeric value between 0.0 and 1.0 for the percentage.')"
   ]
  },
  {
   "cell_type": "code",
   "execution_count": null,
   "metadata": {},
   "outputs": [],
   "source": []
  }
 ],
 "metadata": {
  "kernelspec": {
   "display_name": "Python 3",
   "language": "python",
   "name": "python3"
  },
  "language_info": {
   "codemirror_mode": {
    "name": "ipython",
    "version": 3
   },
   "file_extension": ".py",
   "mimetype": "text/x-python",
   "name": "python",
   "nbconvert_exporter": "python",
   "pygments_lexer": "ipython3",
   "version": "3.8.5"
  }
 },
 "nbformat": 4,
 "nbformat_minor": 4
}
